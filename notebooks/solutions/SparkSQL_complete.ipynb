{
 "cells": [
  {
   "cell_type": "code",
   "execution_count": 2,
   "metadata": {},
   "outputs": [],
   "source": [
    "import pyspark"
   ]
  },
  {
   "cell_type": "markdown",
   "metadata": {},
   "source": [
    "Like before, the first step is to initialize a spark context:"
   ]
  },
  {
   "cell_type": "code",
   "execution_count": 3,
   "metadata": {},
   "outputs": [],
   "source": [
    "sc = pyspark.SparkContext()"
   ]
  },
  {
   "cell_type": "markdown",
   "metadata": {},
   "source": [
    "Now we can initialize a SQL Context passing the <code>sc</code> object to the <code>SQLContext</code> function. The convention when initializing a <code>SQLContext</code> is to pass it to a variable called <code>spark</code>, though you will also see many examples where this variable is called <code>sql</code> or <code>SQLContext</code>."
   ]
  },
  {
   "cell_type": "code",
   "execution_count": 4,
   "metadata": {},
   "outputs": [],
   "source": [
    "from pyspark.sql import SQLContext\n",
    "\n",
    "spark = SQLContext(sc)"
   ]
  },
  {
   "cell_type": "markdown",
   "metadata": {},
   "source": [
    "The Spark SQL API, unlike the RDD API, has a method to read CSV files directly. Let's use it to load our museum data from the RDD API notebook. An alterntive syntax for the command below is <code>spark.read.format(\"csv\").load('MetObjects.csv')</code>. Reading this you might be asking yourself if the SparkSQL API has methods to read other formats directly... and the answer is yes, it does. We will mostly focus on CSV today, but you can find a complete list of supported data sources here: https://spark.apache.org/docs/latest/sql-data-sources.html"
   ]
  },
  {
   "cell_type": "code",
   "execution_count": 13,
   "metadata": {},
   "outputs": [],
   "source": [
    "museum_data = spark.read.options(header='true').csv('../../data/MetObjects.csv.gz')"
   ]
  },
  {
   "cell_type": "markdown",
   "metadata": {},
   "source": [
    "The command above loaded our CSV into a data structure called a DataFrame. If you are familiar with R or Pandas, you will be right at home with the SparkSQL API! \n",
    "\n",
    "The <code>head</code> method shows you the first row of a DataFrame. Notice the word \"Row\" on the output: a DataFrame is an RDD where the elements are objects of the <code>Row</code> class!"
   ]
  },
  {
   "cell_type": "code",
   "execution_count": 7,
   "metadata": {},
   "outputs": [
    {
     "data": {
      "text/plain": [
       "Row(Object Number='1979.486.1', Is Highlight='False', Is Timeline Work='False', Is Public Domain='False', Object ID='1', Gallery Number=None, Department='The American Wing', AccessionYear='1979', Object Name='Coin', Title='One-dollar Liberty Head Coin', Culture=None, Period=None, Dynasty=None, Reign=None, Portfolio=None, Constiuent ID='16429', Artist Role='Maker', Artist Prefix=None, Artist Display Name='James Barton Longacre', Artist Display Bio='American, Delaware County, Pennsylvania 1794–1869 Philadelphia, Pennsylvania', Artist Suffix=None, Artist Alpha Sort='Longacre, James Barton', Artist Nationality='American', Artist Begin Date='1794      ', Artist End Date='1869      ', Artist Gender=None, Artist ULAN URL='http://vocab.getty.edu/page/ulan/500011409', Artist Wikidata URL=None, Object Date='1853', Object Begin Date='1853', Object End Date='1853', Medium='Gold', Dimensions='Dimensions unavailable', Credit Line='Gift of Heinz L. Stoppelmann, 1979', Geography Type=None, City=None, State=None, County=None, Country=None, Region=None, Subregion=None, Locale=None, Locus=None, Excavation=None, River=None, Classification='Metal', Rights and Reproduction=None, Link Resource='http://www.metmuseum.org/art/collection/search/1', Object Wikidata URL=None, Metadata Date=None, Repository='Metropolitan Museum of Art, New York, NY', Tags=None, Tags AAT URL=None, Tags Wikidata URL=None)"
      ]
     },
     "execution_count": 7,
     "metadata": {},
     "output_type": "execute_result"
    }
   ],
   "source": [
    "museum_data.head()"
   ]
  },
  {
   "cell_type": "markdown",
   "metadata": {},
   "source": [
    "Another way of peeking into a DataFrame is the <code>show</code> method. This prints your DataFrame in a way analogous to how you'd get an output from a Relational Database Management Software (RDBMS) on the command line."
   ]
  },
  {
   "cell_type": "code",
   "execution_count": 8,
   "metadata": {},
   "outputs": [
    {
     "name": "stdout",
     "output_type": "stream",
     "text": [
      "+-------------+------------+----------------+----------------+---------+--------------+-----------------+-------------+-----------+--------------------+-------+------+-------+-----+---------+-------------+-----------+-------------+--------------------+--------------------+-------------+--------------------+------------------+-----------------+---------------+-------------+--------------------+-------------------+-----------+-----------------+---------------+------+--------------------+--------------------+--------------+----+-----+------+-------+------+---------+------+-----+----------+-----+--------------+-----------------------+--------------------+-------------------+-------------+--------------------+----+------------+-----------------+\n",
      "|Object Number|Is Highlight|Is Timeline Work|Is Public Domain|Object ID|Gallery Number|       Department|AccessionYear|Object Name|               Title|Culture|Period|Dynasty|Reign|Portfolio|Constiuent ID|Artist Role|Artist Prefix| Artist Display Name|  Artist Display Bio|Artist Suffix|   Artist Alpha Sort|Artist Nationality|Artist Begin Date|Artist End Date|Artist Gender|     Artist ULAN URL|Artist Wikidata URL|Object Date|Object Begin Date|Object End Date|Medium|          Dimensions|         Credit Line|Geography Type|City|State|County|Country|Region|Subregion|Locale|Locus|Excavation|River|Classification|Rights and Reproduction|       Link Resource|Object Wikidata URL|Metadata Date|          Repository|Tags|Tags AAT URL|Tags Wikidata URL|\n",
      "+-------------+------------+----------------+----------------+---------+--------------+-----------------+-------------+-----------+--------------------+-------+------+-------+-----+---------+-------------+-----------+-------------+--------------------+--------------------+-------------+--------------------+------------------+-----------------+---------------+-------------+--------------------+-------------------+-----------+-----------------+---------------+------+--------------------+--------------------+--------------+----+-----+------+-------+------+---------+------+-----+----------+-----+--------------+-----------------------+--------------------+-------------------+-------------+--------------------+----+------------+-----------------+\n",
      "|   1979.486.1|       False|           False|           False|        1|          null|The American Wing|         1979|       Coin|One-dollar Libert...|   null|  null|   null| null|     null|        16429|      Maker|         null|James Barton Long...|American, Delawar...|         null|Longacre, James B...|          American|       1794      |     1869      |         null|http://vocab.gett...|               null|       1853|             1853|           1853|  Gold|Dimensions unavai...|Gift of Heinz L. ...|          null|null| null|  null|   null|  null|     null|  null| null|      null| null|         Metal|                   null|http://www.metmus...|               null|         null|Metropolitan Muse...|null|        null|             null|\n",
      "|   1980.264.5|       False|           False|           False|        2|          null|The American Wing|         1980|       Coin|Ten-dollar Libert...|   null|  null|   null| null|     null|          107|      Maker|         null|  Christian Gobrecht|           1785–1844|         null| Gobrecht, Christian|              null|       1785      |     1844      |         null|http://vocab.gett...|               null|       1901|             1901|           1901|  Gold|Dimensions unavai...|Gift of Heinz L. ...|          null|null| null|  null|   null|  null|     null|  null| null|      null| null|         Metal|                   null|http://www.metmus...|               null|         null|Metropolitan Muse...|null|        null|             null|\n",
      "|     67.265.9|       False|           False|           False|        3|          null|The American Wing|         1967|       Coin|Two-and-a-Half Do...|   null|  null|   null| null|     null|         null|       null|         null|                null|                null|         null|                null|              null|             null|           null|         null|                null|               null|    1909–27|             1909|           1927|  Gold|Diam. 11/16 in. (...|Gift of C. Ruxton...|          null|null| null|  null|   null|  null|     null|  null| null|      null| null|         Metal|                   null|http://www.metmus...|               null|         null|Metropolitan Muse...|null|        null|             null|\n",
      "|    67.265.10|       False|           False|           False|        4|          null|The American Wing|         1967|       Coin|Two-and-a-Half Do...|   null|  null|   null| null|     null|         null|       null|         null|                null|                null|         null|                null|              null|             null|           null|         null|                null|               null|    1909–27|             1909|           1927|  Gold|Diam. 11/16 in. (...|Gift of C. Ruxton...|          null|null| null|  null|   null|  null|     null|  null| null|      null| null|         Metal|                   null|http://www.metmus...|               null|         null|Metropolitan Muse...|null|        null|             null|\n",
      "|    67.265.11|       False|           False|           False|        5|          null|The American Wing|         1967|       Coin|Two-and-a-Half Do...|   null|  null|   null| null|     null|         null|       null|         null|                null|                null|         null|                null|              null|             null|           null|         null|                null|               null|    1909–27|             1909|           1927|  Gold|Diam. 11/16 in. (...|Gift of C. Ruxton...|          null|null| null|  null|   null|  null|     null|  null| null|      null| null|         Metal|                   null|http://www.metmus...|               null|         null|Metropolitan Muse...|null|        null|             null|\n",
      "+-------------+------------+----------------+----------------+---------+--------------+-----------------+-------------+-----------+--------------------+-------+------+-------+-----+---------+-------------+-----------+-------------+--------------------+--------------------+-------------+--------------------+------------------+-----------------+---------------+-------------+--------------------+-------------------+-----------+-----------------+---------------+------+--------------------+--------------------+--------------+----+-----+------+-------+------+---------+------+-----+----------+-----+--------------+-----------------------+--------------------+-------------------+-------------+--------------------+----+------------+-----------------+\n",
      "only showing top 5 rows\n",
      "\n"
     ]
    }
   ],
   "source": [
    "museum_data.show(5)"
   ]
  },
  {
   "cell_type": "markdown",
   "metadata": {},
   "source": [
    "A third option is using the method <code>toPandas</code>. As the name says, this will bring your DataFrame back to the Driver and convert it into a Pandas DataFrame. Notice the <code>limit</code> method called just before <code>toPandas</code>: since this is bringing data back from the Cluster to the Driver, you need to make sure you are not bringing too much back!"
   ]
  },
  {
   "cell_type": "code",
   "execution_count": 9,
   "metadata": {},
   "outputs": [
    {
     "data": {
      "text/html": [
       "<div>\n",
       "<style scoped>\n",
       "    .dataframe tbody tr th:only-of-type {\n",
       "        vertical-align: middle;\n",
       "    }\n",
       "\n",
       "    .dataframe tbody tr th {\n",
       "        vertical-align: top;\n",
       "    }\n",
       "\n",
       "    .dataframe thead th {\n",
       "        text-align: right;\n",
       "    }\n",
       "</style>\n",
       "<table border=\"1\" class=\"dataframe\">\n",
       "  <thead>\n",
       "    <tr style=\"text-align: right;\">\n",
       "      <th></th>\n",
       "      <th>Object Number</th>\n",
       "      <th>Is Highlight</th>\n",
       "      <th>Is Timeline Work</th>\n",
       "      <th>Is Public Domain</th>\n",
       "      <th>Object ID</th>\n",
       "      <th>Gallery Number</th>\n",
       "      <th>Department</th>\n",
       "      <th>AccessionYear</th>\n",
       "      <th>Object Name</th>\n",
       "      <th>Title</th>\n",
       "      <th>...</th>\n",
       "      <th>River</th>\n",
       "      <th>Classification</th>\n",
       "      <th>Rights and Reproduction</th>\n",
       "      <th>Link Resource</th>\n",
       "      <th>Object Wikidata URL</th>\n",
       "      <th>Metadata Date</th>\n",
       "      <th>Repository</th>\n",
       "      <th>Tags</th>\n",
       "      <th>Tags AAT URL</th>\n",
       "      <th>Tags Wikidata URL</th>\n",
       "    </tr>\n",
       "  </thead>\n",
       "  <tbody>\n",
       "    <tr>\n",
       "      <th>0</th>\n",
       "      <td>1979.486.1</td>\n",
       "      <td>False</td>\n",
       "      <td>False</td>\n",
       "      <td>False</td>\n",
       "      <td>1</td>\n",
       "      <td>None</td>\n",
       "      <td>The American Wing</td>\n",
       "      <td>1979</td>\n",
       "      <td>Coin</td>\n",
       "      <td>One-dollar Liberty Head Coin</td>\n",
       "      <td>...</td>\n",
       "      <td>None</td>\n",
       "      <td>Metal</td>\n",
       "      <td>None</td>\n",
       "      <td>http://www.metmuseum.org/art/collection/search/1</td>\n",
       "      <td>None</td>\n",
       "      <td>None</td>\n",
       "      <td>Metropolitan Museum of Art, New York, NY</td>\n",
       "      <td>None</td>\n",
       "      <td>None</td>\n",
       "      <td>None</td>\n",
       "    </tr>\n",
       "    <tr>\n",
       "      <th>1</th>\n",
       "      <td>1980.264.5</td>\n",
       "      <td>False</td>\n",
       "      <td>False</td>\n",
       "      <td>False</td>\n",
       "      <td>2</td>\n",
       "      <td>None</td>\n",
       "      <td>The American Wing</td>\n",
       "      <td>1980</td>\n",
       "      <td>Coin</td>\n",
       "      <td>Ten-dollar Liberty Head Coin</td>\n",
       "      <td>...</td>\n",
       "      <td>None</td>\n",
       "      <td>Metal</td>\n",
       "      <td>None</td>\n",
       "      <td>http://www.metmuseum.org/art/collection/search/2</td>\n",
       "      <td>None</td>\n",
       "      <td>None</td>\n",
       "      <td>Metropolitan Museum of Art, New York, NY</td>\n",
       "      <td>None</td>\n",
       "      <td>None</td>\n",
       "      <td>None</td>\n",
       "    </tr>\n",
       "    <tr>\n",
       "      <th>2</th>\n",
       "      <td>67.265.9</td>\n",
       "      <td>False</td>\n",
       "      <td>False</td>\n",
       "      <td>False</td>\n",
       "      <td>3</td>\n",
       "      <td>None</td>\n",
       "      <td>The American Wing</td>\n",
       "      <td>1967</td>\n",
       "      <td>Coin</td>\n",
       "      <td>Two-and-a-Half Dollar Coin</td>\n",
       "      <td>...</td>\n",
       "      <td>None</td>\n",
       "      <td>Metal</td>\n",
       "      <td>None</td>\n",
       "      <td>http://www.metmuseum.org/art/collection/search/3</td>\n",
       "      <td>None</td>\n",
       "      <td>None</td>\n",
       "      <td>Metropolitan Museum of Art, New York, NY</td>\n",
       "      <td>None</td>\n",
       "      <td>None</td>\n",
       "      <td>None</td>\n",
       "    </tr>\n",
       "    <tr>\n",
       "      <th>3</th>\n",
       "      <td>67.265.10</td>\n",
       "      <td>False</td>\n",
       "      <td>False</td>\n",
       "      <td>False</td>\n",
       "      <td>4</td>\n",
       "      <td>None</td>\n",
       "      <td>The American Wing</td>\n",
       "      <td>1967</td>\n",
       "      <td>Coin</td>\n",
       "      <td>Two-and-a-Half Dollar Coin</td>\n",
       "      <td>...</td>\n",
       "      <td>None</td>\n",
       "      <td>Metal</td>\n",
       "      <td>None</td>\n",
       "      <td>http://www.metmuseum.org/art/collection/search/4</td>\n",
       "      <td>None</td>\n",
       "      <td>None</td>\n",
       "      <td>Metropolitan Museum of Art, New York, NY</td>\n",
       "      <td>None</td>\n",
       "      <td>None</td>\n",
       "      <td>None</td>\n",
       "    </tr>\n",
       "    <tr>\n",
       "      <th>4</th>\n",
       "      <td>67.265.11</td>\n",
       "      <td>False</td>\n",
       "      <td>False</td>\n",
       "      <td>False</td>\n",
       "      <td>5</td>\n",
       "      <td>None</td>\n",
       "      <td>The American Wing</td>\n",
       "      <td>1967</td>\n",
       "      <td>Coin</td>\n",
       "      <td>Two-and-a-Half Dollar Coin</td>\n",
       "      <td>...</td>\n",
       "      <td>None</td>\n",
       "      <td>Metal</td>\n",
       "      <td>None</td>\n",
       "      <td>http://www.metmuseum.org/art/collection/search/5</td>\n",
       "      <td>None</td>\n",
       "      <td>None</td>\n",
       "      <td>Metropolitan Museum of Art, New York, NY</td>\n",
       "      <td>None</td>\n",
       "      <td>None</td>\n",
       "      <td>None</td>\n",
       "    </tr>\n",
       "  </tbody>\n",
       "</table>\n",
       "<p>5 rows × 54 columns</p>\n",
       "</div>"
      ],
      "text/plain": [
       "  Object Number Is Highlight Is Timeline Work Is Public Domain Object ID  \\\n",
       "0    1979.486.1        False            False            False         1   \n",
       "1    1980.264.5        False            False            False         2   \n",
       "2      67.265.9        False            False            False         3   \n",
       "3     67.265.10        False            False            False         4   \n",
       "4     67.265.11        False            False            False         5   \n",
       "\n",
       "  Gallery Number         Department AccessionYear Object Name  \\\n",
       "0           None  The American Wing          1979        Coin   \n",
       "1           None  The American Wing          1980        Coin   \n",
       "2           None  The American Wing          1967        Coin   \n",
       "3           None  The American Wing          1967        Coin   \n",
       "4           None  The American Wing          1967        Coin   \n",
       "\n",
       "                          Title  ... River Classification  \\\n",
       "0  One-dollar Liberty Head Coin  ...  None          Metal   \n",
       "1  Ten-dollar Liberty Head Coin  ...  None          Metal   \n",
       "2    Two-and-a-Half Dollar Coin  ...  None          Metal   \n",
       "3    Two-and-a-Half Dollar Coin  ...  None          Metal   \n",
       "4    Two-and-a-Half Dollar Coin  ...  None          Metal   \n",
       "\n",
       "  Rights and Reproduction                                     Link Resource  \\\n",
       "0                    None  http://www.metmuseum.org/art/collection/search/1   \n",
       "1                    None  http://www.metmuseum.org/art/collection/search/2   \n",
       "2                    None  http://www.metmuseum.org/art/collection/search/3   \n",
       "3                    None  http://www.metmuseum.org/art/collection/search/4   \n",
       "4                    None  http://www.metmuseum.org/art/collection/search/5   \n",
       "\n",
       "  Object Wikidata URL Metadata Date                                Repository  \\\n",
       "0                None          None  Metropolitan Museum of Art, New York, NY   \n",
       "1                None          None  Metropolitan Museum of Art, New York, NY   \n",
       "2                None          None  Metropolitan Museum of Art, New York, NY   \n",
       "3                None          None  Metropolitan Museum of Art, New York, NY   \n",
       "4                None          None  Metropolitan Museum of Art, New York, NY   \n",
       "\n",
       "   Tags Tags AAT URL Tags Wikidata URL  \n",
       "0  None         None              None  \n",
       "1  None         None              None  \n",
       "2  None         None              None  \n",
       "3  None         None              None  \n",
       "4  None         None              None  \n",
       "\n",
       "[5 rows x 54 columns]"
      ]
     },
     "execution_count": 9,
     "metadata": {},
     "output_type": "execute_result"
    }
   ],
   "source": [
    "import pandas as pd\n",
    "\n",
    "museum_data.limit(5).toPandas()"
   ]
  },
  {
   "cell_type": "markdown",
   "metadata": {},
   "source": [
    "Now let's look into how to maipulate data with the SparkSQL API. We'll start with the DataFrames API component. It looks just like SQL, but instead of writing statements, you will call methods just like we did with the RDD API. For example, you can select a single column out of a DataFrame where a condition based on another column is satisfied, then count the number of rows returned:"
   ]
  },
  {
   "cell_type": "code",
   "execution_count": 22,
   "metadata": {},
   "outputs": [
    {
     "data": {
      "text/plain": [
       "3437"
      ]
     },
     "execution_count": 22,
     "metadata": {},
     "output_type": "execute_result"
    }
   ],
   "source": [
    "museum_data.select(\"Title\").where(museum_data.AccessionYear > 2018).count()"
   ]
  },
  {
   "cell_type": "markdown",
   "metadata": {},
   "source": [
    "Also like the RDD API, you can use the <code>take</code> method to bring a few rows back to the Driver and print the results:"
   ]
  },
  {
   "cell_type": "code",
   "execution_count": 44,
   "metadata": {},
   "outputs": [
    {
     "data": {
      "text/plain": [
       "[Row(Title='Jubal and Miriam', Repository='Metropolitan Museum of Art, New York, NY', AccessionYear='2019'),\n",
       " Row(Title='Towel or drying rack', Repository='Metropolitan Museum of Art, New York, NY', AccessionYear='2020'),\n",
       " Row(Title='Vase', Repository='Metropolitan Museum of Art, New York, NY', AccessionYear='2019'),\n",
       " Row(Title='Venetian Summer', Repository='Metropolitan Museum of Art, New York, NY', AccessionYear='2019'),\n",
       " Row(Title='Covered box', Repository='Metropolitan Museum of Art, New York, NY', AccessionYear='2019')]"
      ]
     },
     "execution_count": 44,
     "metadata": {},
     "output_type": "execute_result"
    }
   ],
   "source": [
    "museum_data.select(\"Title\",\"Repository\", \"AccessionYear\").where(museum_data.AccessionYear > 2018).take(5)"
   ]
  },
  {
   "cell_type": "markdown",
   "metadata": {},
   "source": [
    "Similarly to how you'd do it using SQL, you can use the <code>distinct</code> method to return unique instances out of one or more columns:"
   ]
  },
  {
   "cell_type": "code",
   "execution_count": 20,
   "metadata": {},
   "outputs": [
    {
     "data": {
      "text/plain": [
       "63135"
      ]
     },
     "execution_count": 20,
     "metadata": {},
     "output_type": "execute_result"
    }
   ],
   "source": [
    "museum_data.select(\"Artist Display Name\").distinct().count()"
   ]
  },
  {
   "cell_type": "code",
   "execution_count": 21,
   "metadata": {},
   "outputs": [
    {
     "data": {
      "text/plain": [
       "[Row(Artist Display Name='Marks Adjustable Folding Chair Company'),\n",
       " Row(Artist Display Name='Matsu-Zukaya Company|Frank Lloyd Wright'),\n",
       " Row(Artist Display Name='William F. Ladd'),\n",
       " Row(Artist Display Name='Edward Lycett|Faience Manufacturing Company'),\n",
       " Row(Artist Display Name='Boston & Sandwich Glass Company|Henry N. Hooper and Company')]"
      ]
     },
     "execution_count": 21,
     "metadata": {},
     "output_type": "execute_result"
    }
   ],
   "source": [
    "museum_data.select(\"Artist Display Name\").distinct().take(5)"
   ]
  },
  {
   "cell_type": "markdown",
   "metadata": {},
   "source": [
    "The <code>groupBy</code> method works like the \"GROUP BY\" SQL clause: use it to apply aggregations to your data based on one or more columns:"
   ]
  },
  {
   "cell_type": "code",
   "execution_count": 23,
   "metadata": {},
   "outputs": [
    {
     "data": {
      "text/plain": [
       "[Row(Artist Display Name='Marks Adjustable Folding Chair Company', count=1),\n",
       " Row(Artist Display Name='Matsu-Zukaya Company|Frank Lloyd Wright', count=1),\n",
       " Row(Artist Display Name='William F. Ladd', count=6),\n",
       " Row(Artist Display Name='Edward Lycett|Faience Manufacturing Company', count=1),\n",
       " Row(Artist Display Name='Boston & Sandwich Glass Company|Henry N. Hooper and Company', count=1)]"
      ]
     },
     "execution_count": 23,
     "metadata": {},
     "output_type": "execute_result"
    }
   ],
   "source": [
    "museum_data.groupBy(\"Artist Display Name\").count().take(5)"
   ]
  },
  {
   "cell_type": "code",
   "execution_count": 24,
   "metadata": {},
   "outputs": [
    {
     "data": {
      "text/plain": [
       "[Row(Artist Display Name='Andrew Ellicott Warner', AccessionYear='1987', count=10),\n",
       " Row(Artist Display Name='John and Joseph W. Meeks', AccessionYear='1969', count=1),\n",
       " Row(Artist Display Name='Julius Dessoir', AccessionYear='1969', count=1),\n",
       " Row(Artist Display Name='Peleg Armstrong and Erastus Wentworth', AccessionYear='1918', count=1),\n",
       " Row(Artist Display Name='George Fielding', AccessionYear='1923', count=1),\n",
       " Row(Artist Display Name='W. H. T.', AccessionYear='1933', count=1),\n",
       " Row(Artist Display Name='William J. Elsworth', AccessionYear='1939', count=1),\n",
       " Row(Artist Display Name='Jeronimus Alstyne', AccessionYear='1933', count=2),\n",
       " Row(Artist Display Name='John White Alexander', AccessionYear='1891', count=1),\n",
       " Row(Artist Display Name='William M. S. Doyle', AccessionYear='1937', count=1)]"
      ]
     },
     "execution_count": 24,
     "metadata": {},
     "output_type": "execute_result"
    }
   ],
   "source": [
    "museum_data.groupBy(\"Artist Display Name\",\"AccessionYear\").count().take(10)"
   ]
  },
  {
   "cell_type": "markdown",
   "metadata": {},
   "source": [
    "The <code>OrderBy</code> method works like the \"ORDER BY\" SQL statement: notice that its position in the chain of methods we call is analogous to where you'd place an ORDER BY statement in a SQL query!"
   ]
  },
  {
   "cell_type": "code",
   "execution_count": 63,
   "metadata": {},
   "outputs": [
    {
     "data": {
      "text/plain": [
       "[Row(Artist Display Name=None, AccessionYear=None, count=28163),\n",
       " Row(Artist Display Name=None, AccessionYear=' 1973\"', count=1),\n",
       " Row(Artist Display Name=None, AccessionYear=' 1979\"', count=1),\n",
       " Row(Artist Display Name=None, AccessionYear=' 1984\"', count=1),\n",
       " Row(Artist Display Name=None, AccessionYear=' 1985\"', count=1)]"
      ]
     },
     "execution_count": 63,
     "metadata": {},
     "output_type": "execute_result"
    }
   ],
   "source": [
    "museum_data.groupBy(\"Artist Display Name\",\"AccessionYear\").count().orderBy(\"Artist Display Name\",\"AccessionYear\").take(5)"
   ]
  },
  {
   "cell_type": "code",
   "execution_count": 74,
   "metadata": {},
   "outputs": [
    {
     "data": {
      "text/plain": [
       "[Row(Artist Display Name=' \"\"The great Suspension Bridge\"\"\"', AccessionYear='1994', count=1),\n",
       " Row(Artist Display Name=' 7-9', AccessionYear='1924', count=1),\n",
       " Row(Artist Display Name=' candelabra', AccessionYear='1941', count=3),\n",
       " Row(Artist Display Name=' chapter viii', AccessionYear='1963', count=1),\n",
       " Row(Artist Display Name=' à source des Sciences\"', AccessionYear='1917', count=2)]"
      ]
     },
     "execution_count": 74,
     "metadata": {},
     "output_type": "execute_result"
    }
   ],
   "source": [
    "museum_data.dropna(subset='Artist Display Name').groupBy(\"Artist Display Name\",\"AccessionYear\").count().orderBy(\"Artist Display Name\",\"AccessionYear\").take(5)"
   ]
  },
  {
   "cell_type": "markdown",
   "metadata": {},
   "source": [
    "Now, you must be wondering why we chose this Museum dataset for the workshop. The line above is why: this dataset is incredibly broken! Notice on the block above how none of the outputs look like an actual Artist Display Name. The next line gives us an idea of what is going on here - there are too many quotes in some of the columns! Look at the \"Title\" column to see what we mean."
   ]
  },
  {
   "cell_type": "code",
   "execution_count": 9,
   "metadata": {},
   "outputs": [
    {
     "data": {
      "text/plain": [
       "[Row(Object Number='41.71.1.12(2)', Is Highlight='False', Is Timeline Work='False', Is Public Domain='True', Object ID='362011', Gallery Number=None, Department='Drawings and Prints', AccessionYear='1941', Object Name='Print', Title='\"Large vase found at the Pantanello, Hadrian\\'s Villa, Tivoli, in 1770 (The \"\"Warwick Vase', Culture='\"\" from Vasi', Period=' candelabri', Dynasty=' cippi', Reign=' sarcofagi', Portfolio=' tripodi', Constiuent ID=' lucerne', Artist Role=' ed ornamenti antichi disegnati ed incisi dal Cav. Gio. Batt. Piranesi', Artist Prefix=' Vol. I (Vases', Artist Display Name=' candelabra', Artist Display Bio=' grave stones', Artist Suffix=' sarcophagi', Artist Alpha Sort=' tripods', Artist Nationality=' lamps', Artist Begin Date=' and ornaments designed and etched by Cavalieri Giovanni Battista Piranesi)\"', Artist End Date=None, Artist Gender=None, Artist ULAN URL=None, Artist Wikidata URL=None, Object Date='Vasi, candelabri, cippi, sarcofagi, tripodi, lucerne, ed ornamenti antichi disegnati ed incisi dal Cav. Gio. Batt. Piranesi, Vol. I', Object Begin Date='16225', Object End Date='Artist', Medium=None, Dimensions='Giovanni Battista Piranesi', Credit Line='Italian, Mogliano Veneto 1720–1778 Rome', Geography Type=None, City='Piranesi, Giovanni Battista', State='Italian', County='1720      ', Country='1778      ', Region=None, Subregion='http://vocab.getty.edu/page/ulan/500114965', Locale='https://www.wikidata.org/wiki/Q316307', Locus='1778–80', Excavation='1778', River='1780', Classification='Etching', Rights and Reproduction='Sheet: 21 5/8 x 31 1/2 in. (55 x 80 cm)', Link Resource=None, Object Wikidata URL=None, Metadata Date=None, Repository=None, Tags=None, Tags AAT URL=None, Tags Wikidata URL=None)]"
      ]
     },
     "execution_count": 9,
     "metadata": {},
     "output_type": "execute_result"
    }
   ],
   "source": [
    "museum_data.where(museum_data['Artist Display Name'] == ' candelabra').take(1)"
   ]
  },
  {
   "cell_type": "markdown",
   "metadata": {},
   "source": [
    "We will try to use Spark to fix this problem later. For now, let's demonstrate a couple more things you can do with the DataFrames API while also demonstrating other ways in which this dataset is broken... here we use the <code>like</code> method to retrieve instances where the Artist's Nationality is an URL. Notice the SQL syntax in the argument of <code>like</code>: the wildcard character to tell Spark we are looking for the pattern \"http followed by anything\" is \"%\"."
   ]
  },
  {
   "cell_type": "code",
   "execution_count": 15,
   "metadata": {},
   "outputs": [
    {
     "data": {
      "text/plain": [
       "[Row(Artist Nationality='https://www.wikidata.org/wiki/Q41176|https://www.wikidata.org/wiki/Q8441|https://www.wikidata.org/wiki/Q81054|https://www.wikidata.org/wiki/Q11446'),\n",
       " Row(Artist Nationality='https://www.wikidata.org/wiki/Q3957|https://www.wikidata.org/wiki/Q8502|https://www.wikidata.org/wiki/Q191163'),\n",
       " Row(Artist Nationality='https://www.wikidata.org/wiki/Q571|https://www.wikidata.org/wiki/Q676555|https://www.wikidata.org/wiki/Q642420'),\n",
       " Row(Artist Nationality='https://www.wikidata.org/wiki/Q289|https://www.wikidata.org/wiki/Q405|https://www.wikidata.org/wiki/Q333'),\n",
       " Row(Artist Nationality='https://www.wikidata.org/wiki/Q5113'),\n",
       " Row(Artist Nationality='https://www.wikidata.org/wiki/Q5113|https://www.wikidata.org/wiki/Q11946202|https://www.wikidata.org/wiki/Q80066'),\n",
       " Row(Artist Nationality='https://www.wikidata.org/wiki/Q7559|https://www.wikidata.org/wiki/Q1264081'),\n",
       " Row(Artist Nationality='https://www.wikidata.org/wiki/Q5937779|https://www.wikidata.org/wiki/Q43393537|https://www.wikidata.org/wiki/Q404785'),\n",
       " Row(Artist Nationality='https://www.wikidata.org/wiki/Q2239243|https://www.wikidata.org/wiki/Q506|https://www.wikidata.org/wiki/Q33971|https://www.wikidata.org/wiki/Q1207302'),\n",
       " Row(Artist Nationality='https://www.wikidata.org/wiki/Q642420|https://www.wikidata.org/wiki/Q51633')]"
      ]
     },
     "execution_count": 15,
     "metadata": {},
     "output_type": "execute_result"
    }
   ],
   "source": [
    "museum_data.select(\"Artist Nationality\").distinct().where(museum_data['Artist Nationality'].like('http%')).take(10)"
   ]
  },
  {
   "cell_type": "markdown",
   "metadata": {},
   "source": [
    "The <code>where</code> method returns rows where whatever is passed into it as an argument is true. To get an equivalent to SQL's \"NOT LIKE\" we negate the output of <code>like</code> with a \"~\" (tilda). Notice how there are outputs that don't make sense here too!"
   ]
  },
  {
   "cell_type": "code",
   "execution_count": 15,
   "metadata": {},
   "outputs": [
    {
     "data": {
      "text/plain": [
       "[Row(Artist Nationality='Edmonds, Francis William'),\n",
       " Row(Artist Nationality='Deities|Buddhism'),\n",
       " Row(Artist Nationality='Spanish|Italian|French'),\n",
       " Row(Artist Nationality='American, born Ukraine'),\n",
       " Row(Artist Nationality='American|Japanese'),\n",
       " Row(Artist Nationality='Brady, Mathew B.'),\n",
       " Row(Artist Nationality='British|British, born Italy'),\n",
       " Row(Artist Nationality='French|Belgian|Austrian|German|British, active France'),\n",
       " Row(Artist Nationality='German|German|Swiss|Roman|German|German'),\n",
       " Row(Artist Nationality='Puvis de Chavannes, Pierre')]"
      ]
     },
     "execution_count": 15,
     "metadata": {},
     "output_type": "execute_result"
    }
   ],
   "source": [
    "museum_data.select(\"Artist Nationality\").distinct().where(~museum_data['Artist Nationality'].like('http%')).take(10)"
   ]
  },
  {
   "cell_type": "markdown",
   "metadata": {},
   "source": [
    "The next line will give us an idea of what is going on here: look at the very first column, \"Object Number\". Its value is 'white cedar\"'. That lone quote at the end tells us this is probably the end of a larger quoted line and it ended up here because the line contains a new-line character (\\n)! "
   ]
  },
  {
   "cell_type": "code",
   "execution_count": 8,
   "metadata": {},
   "outputs": [
    {
     "data": {
      "text/plain": [
       "[Row(Object Number='white cedar\"', Is Highlight='37 x 30 1/4 x 19 1/2 in. (94 x 76.8 x 49.5 cm)', Is Timeline Work='Gift of Mrs. Russell Sage, 1909', Is Public Domain='Possibly made in|Possibly made in', Object ID='Guilford|Saybrook', Gallery Number=None, Department=None, AccessionYear='United States|United States', Object Name=None, Title=None, Culture=None, Period=None, Dynasty=None, Reign=None, Portfolio='Furniture', Constiuent ID=None, Artist Role='http://www.metmuseum.org/art/collection/search/2029', Artist Prefix=None, Artist Display Name=None, Artist Display Bio='Metropolitan Museum of Art, New York, NY', Artist Suffix='Birds|Flowers', Artist Alpha Sort='http://vocab.getty.edu/page/aat/300266506|http://vocab.getty.edu/page/aat/300132399', Artist Nationality='https://www.wikidata.org/wiki/Q5113|https://www.wikidata.org/wiki/Q506', Artist Begin Date=None, Artist End Date=None, Artist Gender=None, Artist ULAN URL=None, Artist Wikidata URL=None, Object Date=None, Object Begin Date=None, Object End Date=None, Medium=None, Dimensions=None, Credit Line=None, Geography Type=None, City=None, State=None, County=None, Country=None, Region=None, Subregion=None, Locale=None, Locus=None, Excavation=None, River=None, Classification=None, Rights and Reproduction=None, Link Resource=None, Object Wikidata URL=None, Metadata Date=None, Repository=None, Tags=None, Tags AAT URL=None, Tags Wikidata URL=None)]"
      ]
     },
     "execution_count": 8,
     "metadata": {},
     "output_type": "execute_result"
    }
   ],
   "source": [
    "museum_data.where(museum_data['Artist Nationality'].like('http%')).take(1)"
   ]
  },
  {
   "cell_type": "markdown",
   "metadata": {},
   "source": [
    "We will look into how to fix those problems shortly. Before we do that though, let's look at the reason why this API is called SparkSQL in the first place. Using the <code>registerTempTable</code> method you can turn your DataFrame into a full-fledged table and use actual SQL to query it!"
   ]
  },
  {
   "cell_type": "code",
   "execution_count": 5,
   "metadata": {},
   "outputs": [],
   "source": [
    "museum_data.registerTempTable(\"Museum\")"
   ]
  },
  {
   "cell_type": "code",
   "execution_count": 6,
   "metadata": {},
   "outputs": [
    {
     "data": {
      "text/plain": [
       "[Row(Title='Jubal and Miriam', Repository='Metropolitan Museum of Art, New York, NY'),\n",
       " Row(Title='Towel or drying rack', Repository='Metropolitan Museum of Art, New York, NY'),\n",
       " Row(Title='Vase', Repository='Metropolitan Museum of Art, New York, NY'),\n",
       " Row(Title='Venetian Summer', Repository='Metropolitan Museum of Art, New York, NY'),\n",
       " Row(Title='Covered box', Repository='Metropolitan Museum of Art, New York, NY')]"
      ]
     },
     "execution_count": 6,
     "metadata": {},
     "output_type": "execute_result"
    }
   ],
   "source": [
    "spark.sql(\"SELECT Title,Repository FROM Museum WHERE AccessionYear > 2018\").take(5)"
   ]
  },
  {
   "cell_type": "code",
   "execution_count": 21,
   "metadata": {},
   "outputs": [
    {
     "name": "stdout",
     "output_type": "stream",
     "text": [
      "+------------+\n",
      "|count(Title)|\n",
      "+------------+\n",
      "|        2722|\n",
      "+------------+\n",
      "\n"
     ]
    }
   ],
   "source": [
    "spark.sql(\"SELECT COUNT(Title) FROM Museum WHERE AccessionYear > 2018\").show()"
   ]
  },
  {
   "cell_type": "code",
   "execution_count": 12,
   "metadata": {},
   "outputs": [
    {
     "name": "stdout",
     "output_type": "stream",
     "text": [
      "+-------------+------------+----------------+----------------+---------+--------------+-------------------+-------------+-----------+--------------------+------------+-----------+-------+----------+---------+-------------+--------------------+--------------+-------------------+------------------+-------------+-----------------+------------------+--------------------+---------------+-------------+---------------+-------------------+--------------------+-----------------+---------------+------+--------------------+--------------------+--------------+--------------------+-------+----------+----------+------+--------------------+--------------------+-------+----------+-----+--------------+-----------------------+-------------+-------------------+-------------+----------+----+------------+-----------------+\n",
      "|Object Number|Is Highlight|Is Timeline Work|Is Public Domain|Object ID|Gallery Number|         Department|AccessionYear|Object Name|               Title|     Culture|     Period|Dynasty|     Reign|Portfolio|Constiuent ID|         Artist Role| Artist Prefix|Artist Display Name|Artist Display Bio|Artist Suffix|Artist Alpha Sort|Artist Nationality|   Artist Begin Date|Artist End Date|Artist Gender|Artist ULAN URL|Artist Wikidata URL|         Object Date|Object Begin Date|Object End Date|Medium|          Dimensions|         Credit Line|Geography Type|                City|  State|    County|   Country|Region|           Subregion|              Locale|  Locus|Excavation|River|Classification|Rights and Reproduction|Link Resource|Object Wikidata URL|Metadata Date|Repository|Tags|Tags AAT URL|Tags Wikidata URL|\n",
      "+-------------+------------+----------------+----------------+---------+--------------+-------------------+-------------+-----------+--------------------+------------+-----------+-------+----------+---------+-------------+--------------------+--------------+-------------------+------------------+-------------+-----------------+------------------+--------------------+---------------+-------------+---------------+-------------------+--------------------+-----------------+---------------+------+--------------------+--------------------+--------------+--------------------+-------+----------+----------+------+--------------------+--------------------+-------+----------+-----+--------------+-----------------------+-------------+-------------------+-------------+----------+----+------------+-----------------+\n",
      "|41.71.1.12(2)|       False|           False|            True|   362011|          null|Drawings and Prints|         1941|      Print|\"Large vase found...|\"\" from Vasi| candelabri|  cippi| sarcofagi|  tripodi|      lucerne| ed ornamenti ant...| Vol. I (Vases|         candelabra|      grave stones|   sarcophagi|          tripods|             lamps| and ornaments de...|           null|         null|           null|               null|Vasi, candelabri,...|            16225|         Artist|  null|Giovanni Battista...|Italian, Mogliano...|          null|Piranesi, Giovann...|Italian|1720      |1778      |  null|http://vocab.gett...|https://www.wikid...|1778–80|      1778| 1780|       Etching|   Sheet: 21 5/8 x 3...|         null|               null|         null|      null|null|        null|             null|\n",
      "+-------------+------------+----------------+----------------+---------+--------------+-------------------+-------------+-----------+--------------------+------------+-----------+-------+----------+---------+-------------+--------------------+--------------+-------------------+------------------+-------------+-----------------+------------------+--------------------+---------------+-------------+---------------+-------------------+--------------------+-----------------+---------------+------+--------------------+--------------------+--------------+--------------------+-------+----------+----------+------+--------------------+--------------------+-------+----------+-----+--------------+-----------------------+-------------+-------------------+-------------+----------+----+------------+-----------------+\n",
      "\n"
     ]
    }
   ],
   "source": [
    "spark.sql(\"SELECT DISTINCT * FROM Museum WHERE `Artist Display Name` == ' candelabra' LIMIT 1\").show()"
   ]
  },
  {
   "cell_type": "code",
   "execution_count": 15,
   "metadata": {},
   "outputs": [
    {
     "name": "stdout",
     "output_type": "stream",
     "text": [
      "+--------------------+--------------------+----------------+----------------+---------+--------------+--------------------+-------------+-----------+-----+--------------------+--------------------+-------+--------------------+---------+-------------+-----------+-------------+--------------------+------------------+-------------+-----------------+------------------+-----------------+--------------------+-------------+---------------+-------------------+-----------+-----------------+---------------+------+----------+-----------+--------------+----+-----+------+-------+------+---------+------+-----+----------+-----+--------------+-----------------------+-------------+-------------------+-------------+----------+----+------------+-----------------+\n",
      "|       Object Number|        Is Highlight|Is Timeline Work|Is Public Domain|Object ID|Gallery Number|          Department|AccessionYear|Object Name|Title|             Culture|              Period|Dynasty|               Reign|Portfolio|Constiuent ID|Artist Role|Artist Prefix| Artist Display Name|Artist Display Bio|Artist Suffix|Artist Alpha Sort|Artist Nationality|Artist Begin Date|     Artist End Date|Artist Gender|Artist ULAN URL|Artist Wikidata URL|Object Date|Object Begin Date|Object End Date|Medium|Dimensions|Credit Line|Geography Type|City|State|County|Country|Region|Subregion|Locale|Locus|Excavation|River|Classification|Rights and Reproduction|Link Resource|Object Wikidata URL|Metadata Date|Repository|Tags|Tags AAT URL|Tags Wikidata URL|\n",
      "+--------------------+--------------------+----------------+----------------+---------+--------------+--------------------+-------------+-----------+-----+--------------------+--------------------+-------+--------------------+---------+-------------+-----------+-------------+--------------------+------------------+-------------+-----------------+------------------+-----------------+--------------------+-------------+---------------+-------------------+-----------+-----------------+---------------+------+----------+-----------+--------------+----+-----+------+-------+------+---------+------+-----+----------+-----+--------------+-----------------------+-------------+-------------------+-------------+----------+----+------------+-----------------+\n",
      "|Ornament & Archit...|Temple of Anthoin...|            null|            null|     null|          null|Temples et bâtime...|        16364|     Artist| null|Jacques Androuet ...|French, Paris 151...|   null|Du Cerceau, Jacqu...|     null|   1510      | 1585      |         null|http://vocab.gett...|              null|         1545|             1545|              1545|          Etching|Sheet (trimmed): ...|         null|           null|               null|       null|             null|           null|  null|      null|       null|          null|null| null|  null|   null|  null|     null|  null| null|      null| null|          null|                   null|         null|               null|         null|      null|null|        null|             null|\n",
      "+--------------------+--------------------+----------------+----------------+---------+--------------+--------------------+-------------+-----------+-----+--------------------+--------------------+-------+--------------------+---------+-------------+-----------+-------------+--------------------+------------------+-------------+-----------------+------------------+-----------------+--------------------+-------------+---------------+-------------------+-----------+-----------------+---------------+------+----------+-----------+--------------+----+-----+------+-------+------+---------+------+-----+----------+-----+--------------+-----------------------+-------------+-------------------+-------------+----------+----+------------+-----------------+\n",
      "\n"
     ]
    }
   ],
   "source": [
    "spark.sql(\"SELECT DISTINCT * FROM Museum WHERE `Artist Display Name` LIKE 'http%' LIMIT 1\").show()"
   ]
  },
  {
   "cell_type": "markdown",
   "metadata": {},
   "source": [
    "You can add multiple tables to your active Spark SQLContext and work on them as you would on a Relational Database - Join tables, Union tables... To see what tables are current registered in your SQLContext, use the <code>tableNames</code> method:"
   ]
  },
  {
   "cell_type": "code",
   "execution_count": 7,
   "metadata": {},
   "outputs": [
    {
     "data": {
      "text/plain": [
       "['museum']"
      ]
     },
     "execution_count": 7,
     "metadata": {},
     "output_type": "execute_result"
    }
   ],
   "source": [
    "spark.tableNames()"
   ]
  },
  {
   "cell_type": "markdown",
   "metadata": {},
   "source": [
    "We had seen how to register tables with <code>registerTempTable</code>. To remove tables from the session, use <code>dropTempTable</code>:"
   ]
  },
  {
   "cell_type": "code",
   "execution_count": 14,
   "metadata": {},
   "outputs": [],
   "source": [
    "spark.dropTempTable('museum')"
   ]
  },
  {
   "cell_type": "markdown",
   "metadata": {},
   "source": [
    "Whether your DataFrame is registered as a Table in the session, you can see its column names by checking the <code>columns</code> attribute:"
   ]
  },
  {
   "cell_type": "code",
   "execution_count": 16,
   "metadata": {},
   "outputs": [
    {
     "data": {
      "text/plain": [
       "['Object Number',\n",
       " 'Is Highlight',\n",
       " 'Is Timeline Work',\n",
       " 'Is Public Domain',\n",
       " 'Object ID',\n",
       " 'Gallery Number',\n",
       " 'Department',\n",
       " 'AccessionYear',\n",
       " 'Object Name',\n",
       " 'Title',\n",
       " 'Culture',\n",
       " 'Period',\n",
       " 'Dynasty',\n",
       " 'Reign',\n",
       " 'Portfolio',\n",
       " 'Constiuent ID',\n",
       " 'Artist Role',\n",
       " 'Artist Prefix',\n",
       " 'Artist Display Name',\n",
       " 'Artist Display Bio',\n",
       " 'Artist Suffix',\n",
       " 'Artist Alpha Sort',\n",
       " 'Artist Nationality',\n",
       " 'Artist Begin Date',\n",
       " 'Artist End Date',\n",
       " 'Artist Gender',\n",
       " 'Artist ULAN URL',\n",
       " 'Artist Wikidata URL',\n",
       " 'Object Date',\n",
       " 'Object Begin Date',\n",
       " 'Object End Date',\n",
       " 'Medium',\n",
       " 'Dimensions',\n",
       " 'Credit Line',\n",
       " 'Geography Type',\n",
       " 'City',\n",
       " 'State',\n",
       " 'County',\n",
       " 'Country',\n",
       " 'Region',\n",
       " 'Subregion',\n",
       " 'Locale',\n",
       " 'Locus',\n",
       " 'Excavation',\n",
       " 'River',\n",
       " 'Classification',\n",
       " 'Rights and Reproduction',\n",
       " 'Link Resource',\n",
       " 'Object Wikidata URL',\n",
       " 'Metadata Date',\n",
       " 'Repository',\n",
       " 'Tags',\n",
       " 'Tags AAT URL',\n",
       " 'Tags Wikidata URL']"
      ]
     },
     "execution_count": 16,
     "metadata": {},
     "output_type": "execute_result"
    }
   ],
   "source": [
    "museum_data.columns"
   ]
  },
  {
   "cell_type": "markdown",
   "metadata": {},
   "source": [
    "And you can remove columns from a DataFrame using the <code>drop</code> method. Adding columns to spark DataFrames is not as easy and we will see one way to do it later!"
   ]
  },
  {
   "cell_type": "code",
   "execution_count": 9,
   "metadata": {},
   "outputs": [
    {
     "data": {
      "text/html": [
       "<div>\n",
       "<style scoped>\n",
       "    .dataframe tbody tr th:only-of-type {\n",
       "        vertical-align: middle;\n",
       "    }\n",
       "\n",
       "    .dataframe tbody tr th {\n",
       "        vertical-align: top;\n",
       "    }\n",
       "\n",
       "    .dataframe thead th {\n",
       "        text-align: right;\n",
       "    }\n",
       "</style>\n",
       "<table border=\"1\" class=\"dataframe\">\n",
       "  <thead>\n",
       "    <tr style=\"text-align: right;\">\n",
       "      <th></th>\n",
       "      <th>Is Timeline Work</th>\n",
       "      <th>Is Public Domain</th>\n",
       "      <th>Object ID</th>\n",
       "      <th>Gallery Number</th>\n",
       "      <th>Department</th>\n",
       "      <th>AccessionYear</th>\n",
       "      <th>Object Name</th>\n",
       "      <th>Title</th>\n",
       "      <th>Culture</th>\n",
       "      <th>Period</th>\n",
       "      <th>...</th>\n",
       "      <th>River</th>\n",
       "      <th>Classification</th>\n",
       "      <th>Rights and Reproduction</th>\n",
       "      <th>Link Resource</th>\n",
       "      <th>Object Wikidata URL</th>\n",
       "      <th>Metadata Date</th>\n",
       "      <th>Repository</th>\n",
       "      <th>Tags</th>\n",
       "      <th>Tags AAT URL</th>\n",
       "      <th>Tags Wikidata URL</th>\n",
       "    </tr>\n",
       "  </thead>\n",
       "  <tbody>\n",
       "    <tr>\n",
       "      <th>0</th>\n",
       "      <td>False</td>\n",
       "      <td>False</td>\n",
       "      <td>1</td>\n",
       "      <td>None</td>\n",
       "      <td>The American Wing</td>\n",
       "      <td>1979</td>\n",
       "      <td>Coin</td>\n",
       "      <td>One-dollar Liberty Head Coin</td>\n",
       "      <td>None</td>\n",
       "      <td>None</td>\n",
       "      <td>...</td>\n",
       "      <td>None</td>\n",
       "      <td>Metal</td>\n",
       "      <td>None</td>\n",
       "      <td>http://www.metmuseum.org/art/collection/search/1</td>\n",
       "      <td>None</td>\n",
       "      <td>None</td>\n",
       "      <td>Metropolitan Museum of Art, New York, NY</td>\n",
       "      <td>None</td>\n",
       "      <td>None</td>\n",
       "      <td>None</td>\n",
       "    </tr>\n",
       "    <tr>\n",
       "      <th>1</th>\n",
       "      <td>False</td>\n",
       "      <td>False</td>\n",
       "      <td>2</td>\n",
       "      <td>None</td>\n",
       "      <td>The American Wing</td>\n",
       "      <td>1980</td>\n",
       "      <td>Coin</td>\n",
       "      <td>Ten-dollar Liberty Head Coin</td>\n",
       "      <td>None</td>\n",
       "      <td>None</td>\n",
       "      <td>...</td>\n",
       "      <td>None</td>\n",
       "      <td>Metal</td>\n",
       "      <td>None</td>\n",
       "      <td>http://www.metmuseum.org/art/collection/search/2</td>\n",
       "      <td>None</td>\n",
       "      <td>None</td>\n",
       "      <td>Metropolitan Museum of Art, New York, NY</td>\n",
       "      <td>None</td>\n",
       "      <td>None</td>\n",
       "      <td>None</td>\n",
       "    </tr>\n",
       "  </tbody>\n",
       "</table>\n",
       "<p>2 rows × 52 columns</p>\n",
       "</div>"
      ],
      "text/plain": [
       "  Is Timeline Work Is Public Domain Object ID Gallery Number  \\\n",
       "0            False            False         1           None   \n",
       "1            False            False         2           None   \n",
       "\n",
       "          Department AccessionYear Object Name                         Title  \\\n",
       "0  The American Wing          1979        Coin  One-dollar Liberty Head Coin   \n",
       "1  The American Wing          1980        Coin  Ten-dollar Liberty Head Coin   \n",
       "\n",
       "  Culture Period  ... River Classification Rights and Reproduction  \\\n",
       "0    None   None  ...  None          Metal                    None   \n",
       "1    None   None  ...  None          Metal                    None   \n",
       "\n",
       "                                      Link Resource Object Wikidata URL  \\\n",
       "0  http://www.metmuseum.org/art/collection/search/1                None   \n",
       "1  http://www.metmuseum.org/art/collection/search/2                None   \n",
       "\n",
       "  Metadata Date                                Repository  Tags Tags AAT URL  \\\n",
       "0          None  Metropolitan Museum of Art, New York, NY  None         None   \n",
       "1          None  Metropolitan Museum of Art, New York, NY  None         None   \n",
       "\n",
       "  Tags Wikidata URL  \n",
       "0              None  \n",
       "1              None  \n",
       "\n",
       "[2 rows x 52 columns]"
      ]
     },
     "execution_count": 9,
     "metadata": {},
     "output_type": "execute_result"
    }
   ],
   "source": [
    "museum_data.drop('Object Number').drop('Is Highlight').limit(2).toPandas()"
   ]
  },
  {
   "cell_type": "markdown",
   "metadata": {},
   "source": [
    "If you are familiar with SQL, you must be feeling pretty at home right now with the SparkSQL API. However, you might be asking yourself... how you handle column types? In other words, how can I work in a Database where the tables have no schema?\n",
    "\n",
    "It turns out Tables and DataFrames in Spark do have schemas! You can check the <code>schema</code> attriubte:"
   ]
  },
  {
   "cell_type": "code",
   "execution_count": 10,
   "metadata": {},
   "outputs": [
    {
     "data": {
      "text/plain": [
       "StructType(List(StructField(Object Number,StringType,true),StructField(Is Highlight,StringType,true),StructField(Is Timeline Work,StringType,true),StructField(Is Public Domain,StringType,true),StructField(Object ID,StringType,true),StructField(Gallery Number,StringType,true),StructField(Department,StringType,true),StructField(AccessionYear,StringType,true),StructField(Object Name,StringType,true),StructField(Title,StringType,true),StructField(Culture,StringType,true),StructField(Period,StringType,true),StructField(Dynasty,StringType,true),StructField(Reign,StringType,true),StructField(Portfolio,StringType,true),StructField(Constiuent ID,StringType,true),StructField(Artist Role,StringType,true),StructField(Artist Prefix,StringType,true),StructField(Artist Display Name,StringType,true),StructField(Artist Display Bio,StringType,true),StructField(Artist Suffix,StringType,true),StructField(Artist Alpha Sort,StringType,true),StructField(Artist Nationality,StringType,true),StructField(Artist Begin Date,StringType,true),StructField(Artist End Date,StringType,true),StructField(Artist Gender,StringType,true),StructField(Artist ULAN URL,StringType,true),StructField(Artist Wikidata URL,StringType,true),StructField(Object Date,StringType,true),StructField(Object Begin Date,StringType,true),StructField(Object End Date,StringType,true),StructField(Medium,StringType,true),StructField(Dimensions,StringType,true),StructField(Credit Line,StringType,true),StructField(Geography Type,StringType,true),StructField(City,StringType,true),StructField(State,StringType,true),StructField(County,StringType,true),StructField(Country,StringType,true),StructField(Region,StringType,true),StructField(Subregion,StringType,true),StructField(Locale,StringType,true),StructField(Locus,StringType,true),StructField(Excavation,StringType,true),StructField(River,StringType,true),StructField(Classification,StringType,true),StructField(Rights and Reproduction,StringType,true),StructField(Link Resource,StringType,true),StructField(Object Wikidata URL,StringType,true),StructField(Metadata Date,StringType,true),StructField(Repository,StringType,true),StructField(Tags,StringType,true),StructField(Tags AAT URL,StringType,true),StructField(Tags Wikidata URL,StringType,true)))"
      ]
     },
     "execution_count": 10,
     "metadata": {},
     "output_type": "execute_result"
    }
   ],
   "source": [
    "museum_data.schema"
   ]
  },
  {
   "cell_type": "markdown",
   "metadata": {},
   "source": [
    "In our case, wee did not specify what the schema of the DataFrame should be when we loaded the source CSV file, so Spark went ahead and read everything as Strings.\n",
    "\n",
    "As it turns out, you can actually impose schemas on Spark DataFrames before you start populating them with data, in a way analogous to how you write a DDL statement to define a Table's schema in SQL.\n",
    "\n",
    "Below you will see an example of what the schema of our museum data could look like. The following entities are worth of note: <code>StructType</code>, <code>StructField</code> and the different data Types. In SparkSQL, the <code>StructType</code> class defines what a Row will contain, and the <code>StructField</code> class defines what the columns in that row will look like.\n",
    "\n",
    "The order of the StructFields in a StructType must match what is in the dataset you will import into your DataFrame."
   ]
  },
  {
   "cell_type": "code",
   "execution_count": 9,
   "metadata": {},
   "outputs": [],
   "source": [
    "from pyspark.sql.types import *\n",
    "\n",
    "museum_schema = StructType([StructField('Object Number',StringType()), \n",
    "                     StructField('Is Highlight',     BooleanType()), \n",
    "                     StructField('Is Timeline Work', BooleanType()), \n",
    "                     StructField('Is Public Domain', BooleanType()),\n",
    "                     StructField('Object ID',        IntegerType()),\n",
    "                     StructField('Gallery Number',   IntegerType()),\n",
    "                     StructField('Department',       StringType()),\n",
    "                     StructField('AccessionYear',    IntegerType()),\n",
    "                     StructField('ObjectName',       StringType()),\n",
    "                     StructField('Ttile ',           StringType()),\n",
    "                     StructField('Culture',          StringType()),\n",
    "                     StructField('Period',           StringType()),\n",
    "                     StructField('Dynasty',          StringType()),\n",
    "                     StructField('Reign',            StringType()),\n",
    "                     StructField('Portfolio',        StringType()),\n",
    "                     StructField('Constituent ID',   IntegerType()),\n",
    "                     StructField('Artist Role',      StringType()),\n",
    "                     StructField('Artist Prefix',    StringType()),\n",
    "                     StructField('Artist Display Name',StringType()),\n",
    "                     StructField('Artist Display Bio',StringType()),\n",
    "                     StructField('Artist Suffix',    StringType()),\n",
    "                     StructField('Artist Alpha Sort',StringType()),\n",
    "                     StructField('Artist Nationality',StringType()),\n",
    "                     StructField('Artist Begin Date',IntegerType()),\n",
    "                     StructField('Artist End Date',  IntegerType()),\n",
    "                     StructField('Artist Gender',    StringType()),\n",
    "                     StructField('Artist ULAN URL',  StringType()),\n",
    "                     StructField('Artist Wikidata URL',StringType()),\n",
    "                     StructField('Object Date',      DateType()),\n",
    "                     StructField('Object Begin Date',IntegerType()),\n",
    "                     StructField('Object End Date',  IntegerType()),\n",
    "                     StructField('Object Display Name',StringType()),\n",
    "                     StructField('Medium',           StringType()),\n",
    "                     StructField('Dimensions',       StringType()),\n",
    "                     StructField('Credit Line',      StringType()),\n",
    "                     StructField('Geography Type',   StringType()),\n",
    "                     StructField('City',             StringType()),\n",
    "                     StructField('State',            StringType()),\n",
    "                     StructField('County',           StringType()),\n",
    "                     StructField('Country',          StringType()),\n",
    "                     StructField('Region',           StringType()),\n",
    "                     StructField('Subregion',        StringType()),\n",
    "                     StructField('Locale',           StringType()),\n",
    "                     StructField('Locus',            StringType()),\n",
    "                     StructField('Excavation',       StringType()),\n",
    "                     StructField('River',            StringType()),\n",
    "                     StructField('Classification',   StringType()),\n",
    "                     StructField('Rights and Reproduction',StringType()),\n",
    "                     StructField('Link Resource',    StringType()),\n",
    "                     StructField('Object Wikidata URL',StringType()),\n",
    "                     StructField('Metadata Date',    DateType()),\n",
    "                     StructField('Repository',       StringType()),\n",
    "                     StructField('Tags',             StringType()),\n",
    "                     StructField('Tags AAT URL',     StringType()),\n",
    "                     StructField('Tags Wikidata URL',StringType())\n",
    "                    ])"
   ]
  },
  {
   "cell_type": "markdown",
   "metadata": {},
   "source": [
    "Now let's try importing our CSV file and impose the schema above schema on it. To do so, we'll add the \"schema\" parameter to our call to the <code>csv</code> method we had used before:"
   ]
  },
  {
   "cell_type": "code",
   "execution_count": 10,
   "metadata": {},
   "outputs": [
    {
     "data": {
      "text/plain": [
       "Row(Object Number=None, Is Highlight=None, Is Timeline Work=None, Is Public Domain=None, Object ID=None, Gallery Number=None, Department=None, AccessionYear=None, ObjectName=None, Ttile =None, Culture=None, Period=None, Dynasty=None, Reign=None, Portfolio=None, Constituent ID=None, Artist Role=None, Artist Prefix=None, Artist Display Name=None, Artist Display Bio=None, Artist Suffix=None, Artist Alpha Sort=None, Artist Nationality=None, Artist Begin Date=None, Artist End Date=None, Artist Gender=None, Artist ULAN URL=None, Artist Wikidata URL=None, Object Date=None, Object Begin Date=None, Object End Date=None, Object Display Name=None, Medium=None, Dimensions=None, Credit Line=None, Geography Type=None, City=None, State=None, County=None, Country=None, Region=None, Subregion=None, Locale=None, Locus=None, Excavation=None, River=None, Classification=None, Rights and Reproduction=None, Link Resource=None, Object Wikidata URL=None, Metadata Date=None, Repository=None, Tags=None, Tags AAT URL=None, Tags Wikidata URL=None)"
      ]
     },
     "execution_count": 10,
     "metadata": {},
     "output_type": "execute_result"
    }
   ],
   "source": [
    "museum_data = spark.read.options(header='true').csv('../../data/MetObjects.csv.gz', schema=museum_schema)\n",
    "\n",
    "museum_data.head()"
   ]
  },
  {
   "cell_type": "markdown",
   "metadata": {},
   "source": [
    "All of our data got loaded as <code>None</code>, which you can think of as the Python equivalent of a SQL <code>NULL</code>. We can confirm that it was indeed **all** of our data that gor loaded as NULLs running the line below. The <code>dropna</code> method, used without any arguments like we do below, filters out all rows containing NULLs from our DataFrame: "
   ]
  },
  {
   "cell_type": "code",
   "execution_count": 41,
   "metadata": {},
   "outputs": [
    {
     "data": {
      "text/plain": [
       "0"
      ]
     },
     "execution_count": 41,
     "metadata": {},
     "output_type": "execute_result"
    }
   ],
   "source": [
    "museum_data.dropna().count()"
   ]
  },
  {
   "cell_type": "markdown",
   "metadata": {},
   "source": [
    "So what happened here? Well, we know the dataset is broken and that there are likely lots of rows that won't possibly fit into the schema we specified. As it turns out, SparkSQL's default behaviour when reading data, is to fail when it comes across malformed inputs!\n",
    "\n",
    "We can change that default behaviour by adding an option to drop malformed inputs and keep the good ones to our CSV reader:"
   ]
  },
  {
   "cell_type": "code",
   "execution_count": 12,
   "metadata": {},
   "outputs": [
    {
     "data": {
      "text/plain": [
       "5362"
      ]
     },
     "execution_count": 12,
     "metadata": {},
     "output_type": "execute_result"
    }
   ],
   "source": [
    "museum_data = spark.read.options(header='true').option(\"mode\",\"DROPMALFORMED\").csv('../../data/MetObjects.csv.gz', schema=museum_schema)\n",
    "\n",
    "museum_data.count()"
   ]
  },
  {
   "cell_type": "markdown",
   "metadata": {},
   "source": [
    "Looks like there is a whole lot of inputs that won't fit in our schema...\n",
    "\n",
    "In general, enforcing schemas in SparkSQL is a good idea when you know you can trust the source to be **mostly** clean, i.e., that the number of columns and their types will mostly match the schema you intend to enforce. Having a well-defined schema in SparkSQL will enable you to use a number of typed built-in functions directly, without having to convert between types or wrangling data just so you can use a certain function. A notable example of when this comes in handy is whenever you are dealing with Dates or Timestamps.\n",
    "\n",
    "Since we know our dataset is far from clean, we are better off not enforcing a schema and letting Spark decide instead. We add the option \"inferschema\" to tell Spark we'd like it to try to figure out from the data what the schema is. **Spoiler alert:** Spark does not infer schemas from messy data very reliably."
   ]
  },
  {
   "cell_type": "code",
   "execution_count": 13,
   "metadata": {},
   "outputs": [
    {
     "data": {
      "text/plain": [
       "382209"
      ]
     },
     "execution_count": 13,
     "metadata": {},
     "output_type": "execute_result"
    }
   ],
   "source": [
    "museum_data = spark.read.options(header='true').option(\"inferschema\",\"true\").option(\"mode\",\"DROPMALFORMED\").csv('../../data/MetObjects.csv.gz')\n",
    "museum_data.count()"
   ]
  },
  {
   "cell_type": "markdown",
   "metadata": {},
   "source": [
    "Better, but still pretty far from the over 500k lines our CSV file actually has.\n",
    "\n",
    "We had identified two problems with our data before:\n",
    "\n",
    "1. Too many quotes in some lines.\n",
    "2. Line breaks inside of quoted lines.\n",
    "\n",
    "Let's try to solve these two problems now, and see if that means we can get more lines. First we will use the \"multiline\" option to let Spark know that there are some line breaks **in the fields** of our CSV file and they do not mean the next line is a different row of the dataset:"
   ]
  },
  {
   "cell_type": "code",
   "execution_count": 5,
   "metadata": {},
   "outputs": [
    {
     "data": {
      "text/plain": [
       "464607"
      ]
     },
     "execution_count": 5,
     "metadata": {},
     "output_type": "execute_result"
    }
   ],
   "source": [
    "museum_data = spark.read.options(header='true').option(\"inferschema\",\"true\").option(\"multiline\",True).option(\"mode\",\"DROPMALFORMED\").csv('../../data/MetObjects.csv.gz')\n",
    "museum_data.count()"
   ]
  },
  {
   "cell_type": "markdown",
   "metadata": {},
   "source": [
    "Getting better! Let's see if this solved our problem with URLs showing up where Artists' nationalities should have been:"
   ]
  },
  {
   "cell_type": "code",
   "execution_count": 52,
   "metadata": {},
   "outputs": [
    {
     "data": {
      "text/plain": [
       "[]"
      ]
     },
     "execution_count": 52,
     "metadata": {},
     "output_type": "execute_result"
    }
   ],
   "source": [
    "museum_data.select(\"Artist Nationality\").distinct().where(museum_data['Artist Nationality'].like('http%')).take(10)"
   ]
  },
  {
   "cell_type": "markdown",
   "metadata": {},
   "source": [
    "Looks like at least there are no longer URLs in the Artist Nationality field. Let's see if those URLs are in the right field now:"
   ]
  },
  {
   "cell_type": "code",
   "execution_count": 16,
   "metadata": {},
   "outputs": [
    {
     "data": {
      "text/plain": [
       "[Row(Object Number='29.100.762', Is Highlight='False', Is Timeline Work='False', Is Public Domain='False', Object ID='58673', Gallery Number=None, Department='Asian Art', AccessionYear='1929', Object Name='Inrō', Title=None, Culture='Japan', Period='Edo period (1615–1868)', Dynasty=None, Reign=None, Portfolio=None, Constiuent ID='16147', Artist Role='Artist', Artist Prefix=None, Artist Display Name='Louisine W. Havemeyer', Artist Display Bio=None, Artist Suffix=None, Artist Alpha Sort='Havemeyer, Louisine W.', Artist Nationality=None, Artist Begin Date='1855      ', Artist End Date='1929      ', Artist Gender='Female', Artist ULAN URL='http://vocab.getty.edu/page/ulan/500435594', Artist Wikidata URL='https://www.wikidata.org/wiki/Q539280', Object Date='19th century', Object Begin Date='1800', Object End Date='1899', Medium='Lacquer, gold, hirame, gold and coloured hiramakie, takamakie, nashiji; Interior: nashiji and fundame', Dimensions='3 5/16 x 1 15/16 x 1 in. (8.4 x 5 x 2.6 cm)', Credit Line='H. O. Havemeyer Collection, Bequest of Mrs. H. O. Havemeyer, 1929', Geography Type=None, City=None, State=None, County=None, Country=None, Region=None, Subregion=None, Locale=None, Locus=None, Excavation=None, River=None, Classification='Inrō', Rights and Reproduction=None, Link Resource='http://www.metmuseum.org/art/collection/search/58673', Object Wikidata URL=None, Metadata Date=None, Repository='Metropolitan Museum of Art, New York, NY', Tags='Birds|Moon|Trees', Tags AAT URL='http://vocab.getty.edu/page/aat/300266506|http://vocab.getty.edu/page/aat/300386951|http://vocab.getty.edu/page/aat/300132410', Tags Wikidata URL='https://www.wikidata.org/wiki/Q5113|https://www.wikidata.org/wiki/Q405|https://www.wikidata.org/wiki/Q10884')]"
      ]
     },
     "execution_count": 16,
     "metadata": {},
     "output_type": "execute_result"
    }
   ],
   "source": [
    "museum_data.where(museum_data['Tags AAT URL']=='http://vocab.getty.edu/page/aat/300266506|http://vocab.getty.edu/page/aat/300386951|http://vocab.getty.edu/page/aat/300132410').take(1)"
   ]
  },
  {
   "cell_type": "markdown",
   "metadata": {},
   "source": [
    "Bingo! Now let's see if we can solve the too-many-quotes problem. We do this by adding the \"escape\" option, indicating that any occurences of the \" character inside a field, is to be read as a simple character and not a quote in the CSV-altering sense:"
   ]
  },
  {
   "cell_type": "code",
   "execution_count": 17,
   "metadata": {},
   "outputs": [
    {
     "data": {
      "text/plain": [
       "474526"
      ]
     },
     "execution_count": 17,
     "metadata": {},
     "output_type": "execute_result"
    }
   ],
   "source": [
    "museum_data = spark.read.options(header='true').option(\"inferschema\",\"true\").option(\"escape\", \"\\\"\").option(\"multiline\",True).option(\"mode\",\"DROPMALFORMED\").csv('../../data/MetObjects.csv.gz')\n",
    "museum_data.count()"
   ]
  },
  {
   "cell_type": "markdown",
   "metadata": {},
   "source": [
    "Got an extra 10k lines, not bad! Let's check what one of our previously broken lines look like now:"
   ]
  },
  {
   "cell_type": "code",
   "execution_count": 18,
   "metadata": {},
   "outputs": [
    {
     "data": {
      "text/plain": [
       "[]"
      ]
     },
     "execution_count": 18,
     "metadata": {},
     "output_type": "execute_result"
    }
   ],
   "source": [
    "museum_data.where(museum_data['Artist Display Name'] == ' candelabra').take(1)"
   ]
  },
  {
   "cell_type": "code",
   "execution_count": 41,
   "metadata": {},
   "outputs": [
    {
     "data": {
      "text/plain": [
       "[Row(﻿Object Number='41.71.1.12(2)', Is Highlight=False, Is Timeline Work=False, Is Public Domain=True, Object ID=362011, Gallery Number=None, Department='Drawings and Prints', AccessionYear='1941', Object Name='Print', Title='Large vase found at the Pantanello, Hadrian\\'s Villa, Tivoli, in 1770 (The \"Warwick Vase,\" from Vasi, candelabri, cippi, sarcofagi, tripodi, lucerne, ed ornamenti antichi disegnati ed incisi dal Cav. Gio. Batt. Piranesi, Vol. I (Vases, candelabra, grave stones, sarcophagi, tripods, lamps, and ornaments designed and etched by Cavalieri Giovanni Battista Piranesi)', Culture=None, Period=None, Dynasty=None, Reign=None, Portfolio='Vasi, candelabri, cippi, sarcofagi, tripodi, lucerne, ed ornamenti antichi disegnati ed incisi dal Cav. Gio. Batt. Piranesi, Vol. I', Constiuent ID=16225.0, Artist Role='Artist', Artist Prefix=None, Artist Display Name='Giovanni Battista Piranesi', Artist Display Bio='Italian, Mogliano Veneto 1720–1778 Rome', Artist Suffix=None, Artist Alpha Sort='Piranesi, Giovanni Battista', Artist Nationality='Italian', Artist Begin Date='1720      ', Artist End Date='1778      ', Artist Gender=None, Artist ULAN URL='http://vocab.getty.edu/page/ulan/500114965', Artist Wikidata URL='https://www.wikidata.org/wiki/Q316307', Object Date='1778–80', Object Begin Date=1778, Object End Date=1780, Medium='Etching', Dimensions='Sheet: 21 5/8 x 31 1/2 in. (55 x 80 cm)\\r\\nPlate: 27 15/16 x 18 5/8 in. (71 x 47.3 cm) printed horizontally', Credit Line='Rogers Fund, transferred from the Library', Geography Type=None, City=None, State=None, County=None, Country=None, Region=None, Subregion=None, Locale=None, Locus=None, Excavation=None, River=None, Classification='Prints', Rights and Reproduction=None, Link Resource='http://www.metmuseum.org/art/collection/search/362011', Object Wikidata URL=None, Metadata Date=None, Repository='Metropolitan Museum of Art, New York, NY', Tags='Faces|Vases', Tags AAT URL='http://vocab.getty.edu/page/aat/300251798|http://vocab.getty.edu/page/aat/300132254', Tags Wikidata URL\n",
       " ='https://www.wikidata.org/wiki/Q37017|https://www.wikidata.org/wiki/Q191851\\r')]"
      ]
     },
     "execution_count": 41,
     "metadata": {},
     "output_type": "execute_result"
    }
   ],
   "source": [
    "museum_data.where(museum_data['Object ID'] == '362011').take(1)"
   ]
  },
  {
   "cell_type": "markdown",
   "metadata": {},
   "source": [
    "The key takeaway here is that many data quality problems can be solved in Spark at load time. This is true of most other data formats supported by Spark too! So if you come across problems like the ones we've seen here where records are potentially malformed, a good first step is always to use one of the <code>read</code> methods and their options to solve them. For more on these methods and their options, see here: https://spark.apache.org/docs/latest/sql-data-sources.html\n",
    "\n",
    "There are many other problems like these left in this dataset and you are welcome to try and find them. They should be possible to fix by adding options to the CSV reader like we did above.\n",
    "\n",
    "If however you can't solve a problem with one of the <code>read</code> methods, or if you need to transform a field that got loaded successfully (but not correctly) or if you need to add a new column to your DataFrame based on existing columns, a powerful tool at your disposal is... the RDD API!\n",
    "\n",
    "You can extract an RDD from a DataFrame by reading the <code>rdd</code> attribute like this:"
   ]
  },
  {
   "cell_type": "code",
   "execution_count": 27,
   "metadata": {},
   "outputs": [],
   "source": [
    "museum_rdd = museum_data.rdd"
   ]
  },
  {
   "cell_type": "markdown",
   "metadata": {},
   "source": [
    "A DataFrame, however, is an RDD where the elements are objects of the class Row as we've seen before:"
   ]
  },
  {
   "cell_type": "code",
   "execution_count": 7,
   "metadata": {},
   "outputs": [
    {
     "data": {
      "text/plain": [
       "[Row(﻿Object Number='1979.486.1', Is Highlight=False, Is Timeline Work=False, Is Public Domain=False, Object ID=1, Gallery Number=None, Department='The American Wing', AccessionYear='1979', Object Name='Coin', Title='One-dollar Liberty Head Coin', Culture=None, Period=None, Dynasty=None, Reign=None, Portfolio=None, Constiuent ID=16429.0, Artist Role='Maker', Artist Prefix=None, Artist Display Name='James Barton Longacre', Artist Display Bio='American, Delaware County, Pennsylvania 1794–1869 Philadelphia, Pennsylvania', Artist Suffix=None, Artist Alpha Sort='Longacre, James Barton', Artist Nationality='American', Artist Begin Date='1794      ', Artist End Date='1869      ', Artist Gender=None, Artist ULAN URL='http://vocab.getty.edu/page/ulan/500011409', Artist Wikidata URL=None, Object Date='1853', Object Begin Date=1853, Object End Date=1853, Medium='Gold', Dimensions='Dimensions unavailable', Credit Line='Gift of Heinz L. Stoppelmann, 1979', Geography Type=None, City=None, State=None, County=None, Country=None, Region=None, Subregion=None, Locale=None, Locus=None, Excavation=None, River=None, Classification='Metal', Rights and Reproduction=None, Link Resource='http://www.metmuseum.org/art/collection/search/1', Object Wikidata URL=None, Metadata Date=None, Repository='Metropolitan Museum of Art, New York, NY', Tags=None, Tags AAT URL=None, Tags Wikidata URL\n",
       " ='\\r')]"
      ]
     },
     "execution_count": 7,
     "metadata": {},
     "output_type": "execute_result"
    }
   ],
   "source": [
    "museum_rdd.take(1)"
   ]
  },
  {
   "cell_type": "markdown",
   "metadata": {},
   "source": [
    "This isn't very useful outside of the SparkSQL API, so we convert all elements to good-old Python <code>lists</code> next: "
   ]
  },
  {
   "cell_type": "code",
   "execution_count": 8,
   "metadata": {},
   "outputs": [
    {
     "data": {
      "text/plain": [
       "[['1979.486.1',\n",
       "  False,\n",
       "  False,\n",
       "  False,\n",
       "  1,\n",
       "  None,\n",
       "  'The American Wing',\n",
       "  '1979',\n",
       "  'Coin',\n",
       "  'One-dollar Liberty Head Coin',\n",
       "  None,\n",
       "  None,\n",
       "  None,\n",
       "  None,\n",
       "  None,\n",
       "  16429.0,\n",
       "  'Maker',\n",
       "  None,\n",
       "  'James Barton Longacre',\n",
       "  'American, Delaware County, Pennsylvania 1794–1869 Philadelphia, Pennsylvania',\n",
       "  None,\n",
       "  'Longacre, James Barton',\n",
       "  'American',\n",
       "  '1794      ',\n",
       "  '1869      ',\n",
       "  None,\n",
       "  'http://vocab.getty.edu/page/ulan/500011409',\n",
       "  None,\n",
       "  '1853',\n",
       "  1853,\n",
       "  1853,\n",
       "  'Gold',\n",
       "  'Dimensions unavailable',\n",
       "  'Gift of Heinz L. Stoppelmann, 1979',\n",
       "  None,\n",
       "  None,\n",
       "  None,\n",
       "  None,\n",
       "  None,\n",
       "  None,\n",
       "  None,\n",
       "  None,\n",
       "  None,\n",
       "  None,\n",
       "  None,\n",
       "  'Metal',\n",
       "  None,\n",
       "  'http://www.metmuseum.org/art/collection/search/1',\n",
       "  None,\n",
       "  None,\n",
       "  'Metropolitan Museum of Art, New York, NY',\n",
       "  None,\n",
       "  None,\n",
       "  '\\r']]"
      ]
     },
     "execution_count": 8,
     "metadata": {},
     "output_type": "execute_result"
    }
   ],
   "source": [
    "museum_rdd.map(list).take(1)"
   ]
  },
  {
   "cell_type": "markdown",
   "metadata": {},
   "source": [
    "Now, remember from before how we said that adding columns to DataFrames was not as straightforward as it sounds? There are actually many ways to do it, none being particularly easy or obvious to figure out. The one we recommend for the flexibility it gives the programmer is using the RDD API. On the next line, we will append a '1' to each element of our RDD if the Artist's Nationality is \"Canadian\", a '0' if the artist is not Canadian, and an 'NA' if the artist's nationality is NULL:"
   ]
  },
  {
   "cell_type": "code",
   "execution_count": 28,
   "metadata": {},
   "outputs": [],
   "source": [
    "museum_rdd = museum_rdd.map(list).map(lambda row : row + ['NA' if not row[22] else '1' if \"Canadian\" in row[22] else '0'])"
   ]
  },
  {
   "cell_type": "markdown",
   "metadata": {},
   "source": [
    "Now let's create a Python list containing the original column names from our DataFrame, plus a new column name: 'Is Canadian'."
   ]
  },
  {
   "cell_type": "code",
   "execution_count": 33,
   "metadata": {},
   "outputs": [],
   "source": [
    "column_names = museum_data.columns + ['Is Canadian']"
   ]
  },
  {
   "cell_type": "markdown",
   "metadata": {},
   "source": [
    "Finally, we convert the RDD back to a DataFrame. Passing our list of column names as an argument tells Spark that this should be the header of the new DataFrame. The second argument tells Spark how much of the RDD it should look at in order to try to figure out the schema of the DataFrame. If your dataset is massive, even 1% (0.01) might be too much and take a long time to run!"
   ]
  },
  {
   "cell_type": "code",
   "execution_count": 35,
   "metadata": {},
   "outputs": [],
   "source": [
    "museum_data = museum_rdd.toDF(column_names,sampleRatio=0.01)"
   ]
  },
  {
   "cell_type": "code",
   "execution_count": 36,
   "metadata": {},
   "outputs": [
    {
     "data": {
      "text/plain": [
       "[Row(﻿Object Number='1979.486.1', Is Highlight=False, Is Timeline Work=False, Is Public Domain=False, Object ID=1, Gallery Number=None, Department='The American Wing', AccessionYear='1979', Object Name='Coin', Title='One-dollar Liberty Head Coin', Culture=None, Period=None, Dynasty=None, Reign=None, Portfolio=None, Constiuent ID=16429.0, Artist Role='Maker', Artist Prefix=None, Artist Display Name='James Barton Longacre', Artist Display Bio='American, Delaware County, Pennsylvania 1794–1869 Philadelphia, Pennsylvania', Artist Suffix=None, Artist Alpha Sort='Longacre, James Barton', Artist Nationality='American', Artist Begin Date='1794      ', Artist End Date='1869      ', Artist Gender=None, Artist ULAN URL='http://vocab.getty.edu/page/ulan/500011409', Artist Wikidata URL=None, Object Date='1853', Object Begin Date=1853, Object End Date=1853, Medium='Gold', Dimensions='Dimensions unavailable', Credit Line='Gift of Heinz L. Stoppelmann, 1979', Geography Type=None, City=None, State=None, County=None, Country=None, Region=None, Subregion=None, Locale=None, Locus=None, Excavation=None, River=None, Classification='Metal', Rights and Reproduction=None, Link Resource='http://www.metmuseum.org/art/collection/search/1', Object Wikidata URL=None, Metadata Date=None, Repository='Metropolitan Museum of Art, New York, NY', Tags=None, Tags AAT URL=None, Tags Wikidata URL\n",
       " ='\\r', Is Canadian='0')]"
      ]
     },
     "execution_count": 36,
     "metadata": {},
     "output_type": "execute_result"
    }
   ],
   "source": [
    "museum_data.take(1)"
   ]
  },
  {
   "cell_type": "markdown",
   "metadata": {},
   "source": [
    "This concludes our introduction to the SparkSQL API. This API is extremely powerful and there is a lot more that you can do with it than we covered "
   ]
  }
 ],
 "metadata": {
  "kernelspec": {
   "display_name": "Python 3",
   "language": "python",
   "name": "python3"
  },
  "language_info": {
   "codemirror_mode": {
    "name": "ipython",
    "version": 3
   },
   "file_extension": ".py",
   "mimetype": "text/x-python",
   "name": "python",
   "nbconvert_exporter": "python",
   "pygments_lexer": "ipython3",
   "version": "3.8.2"
  }
 },
 "nbformat": 4,
 "nbformat_minor": 4
}
